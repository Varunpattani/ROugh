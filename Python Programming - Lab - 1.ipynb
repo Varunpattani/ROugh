{
 "cells": [
  {
   "cell_type": "markdown",
   "metadata": {},
   "source": [
    "<a href='https://www.darshan.ac.in/'> <img src='https://www.darshan.ac.in/Content/media/DU_Logo.svg' width=\"250\" height=\"10\"/></a>\n",
    "<pre>\n",
    "<center><b><h1>Python Programming - 2301CS404</b></center>\n",
    "<center><b><h1>Lab - 1</b></center> \n",
    "<center><b><h1>Varun Pattani | 23010101425 | 26/11/24\n",
    "<pre>"
   ]
  },
  {
   "cell_type": "markdown",
   "metadata": {},
   "source": [
    "### 01) WAP to print “Hello World”"
   ]
  },
  {
   "cell_type": "code",
   "execution_count": 1,
   "metadata": {
    "collapsed": true
   },
   "outputs": [
    {
     "name": "stdout",
     "output_type": "stream",
     "text": [
      "Hello World\n"
     ]
    }
   ],
   "source": [
    "print(\"Hello World\")"
   ]
  },
  {
   "cell_type": "markdown",
   "metadata": {},
   "source": [
    "### 02) WAP to print addition of two numbers with and without using input()."
   ]
  },
  {
   "cell_type": "code",
   "execution_count": 3,
   "metadata": {},
   "outputs": [
    {
     "name": "stdout",
     "output_type": "stream",
     "text": [
      "Addition =  30\n",
      "Enter number 1 : 5\n",
      "Enter number 2 :6\n",
      "Addition =  11\n"
     ]
    }
   ],
   "source": [
    "#without input\n",
    "\n",
    "a = 10\n",
    "b = 20\n",
    "\n",
    "print(\"Addition = \",a+b)\n",
    "\n",
    "#with input\n",
    "\n",
    "c= int(input(\"Enter number 1 : \"))\n",
    "d= int(input(\"Enter number 2 :\"))\n",
    "\n",
    "print(\"Addition = \",a+b)"
   ]
  },
  {
   "cell_type": "markdown",
   "metadata": {},
   "source": [
    "### 03) WAP to check the type of the variable."
   ]
  },
  {
   "cell_type": "code",
   "execution_count": 4,
   "metadata": {},
   "outputs": [
    {
     "name": "stdout",
     "output_type": "stream",
     "text": [
      "<class 'int'>\n",
      "<class 'str'>\n",
      "<class 'float'>\n"
     ]
    }
   ],
   "source": [
    "a = 10\n",
    "b = \"hello\"\n",
    "c = 20.45\n",
    "\n",
    "print(type(a))\n",
    "print(type(b))\n",
    "print(type(c))"
   ]
  },
  {
   "cell_type": "markdown",
   "metadata": {},
   "source": [
    "### 04) WAP to calculate simple interest."
   ]
  },
  {
   "cell_type": "code",
   "execution_count": 5,
   "metadata": {},
   "outputs": [
    {
     "name": "stdout",
     "output_type": "stream",
     "text": [
      "Enter Principle : 10\n",
      "Enter rate: 20\n",
      "Enter time:30\n",
      "final amount =  60.0\n"
     ]
    }
   ],
   "source": [
    "P = float(input(\"Enter Principle : \"))\n",
    "r = float(input(\"Enter rate : \"))\n",
    "t = float(input(\"Enter time : \"))\n",
    "\n",
    "ans = (P*t*r)/100\n",
    "print(\"final amount = \",ans)"
   ]
  },
  {
   "cell_type": "markdown",
   "metadata": {},
   "source": [
    "### 05) WAP to calculate area and perimeter of a circle."
   ]
  },
  {
   "cell_type": "code",
   "execution_count": 7,
   "metadata": {},
   "outputs": [
    {
     "name": "stdout",
     "output_type": "stream",
     "text": [
      "Enter radius : 5\n",
      "Area =  78.5\n",
      "Perimeter =  31.400000000000002\n"
     ]
    }
   ],
   "source": [
    "r = float(input(\"Enter radius : \")) \n",
    "area = 3.14 * r * r\n",
    "print(\"Area = \",area)\n",
    "\n",
    "peri = 2 * 3.14 * r\n",
    "print(\"Perimeter = \",peri)"
   ]
  },
  {
   "cell_type": "markdown",
   "metadata": {},
   "source": [
    "### 06) WAP to calculate area of a triangle."
   ]
  },
  {
   "cell_type": "code",
   "execution_count": 9,
   "metadata": {},
   "outputs": [
    {
     "name": "stdout",
     "output_type": "stream",
     "text": [
      "Enter base of Triangle : 5\n",
      "Enter height of Triangle : 3\n",
      "Area =  7.5\n"
     ]
    }
   ],
   "source": [
    "b = float(input(\"Enter base of Triangle : \"))\n",
    "h = float(input(\"Enter height of Triangle : \"))\n",
    "\n",
    "area = 1/2 * b * h\n",
    "\n",
    "print(\"Area = \",area)"
   ]
  },
  {
   "cell_type": "markdown",
   "metadata": {},
   "source": [
    "### 07) WAP to compute quotient and remainder."
   ]
  },
  {
   "cell_type": "code",
   "execution_count": 10,
   "metadata": {},
   "outputs": [
    {
     "name": "stdout",
     "output_type": "stream",
     "text": [
      "Enter Dividend : 25\n",
      "Enter Divisor : 5\n",
      "Quotient =  5.0\n",
      "Remainder =  0.0\n"
     ]
    }
   ],
   "source": [
    "dnd = float(input(\"Enter Dividend : \"))\n",
    "div = float(input(\"Enter Divisor : \"))\n",
    "\n",
    "quo = dnd/div\n",
    "rem = dnd%div\n",
    "\n",
    "print(\"Quotient = \",quo)\n",
    "print(\"Remainder = \",rem)"
   ]
  },
  {
   "cell_type": "markdown",
   "metadata": {},
   "source": [
    "### 08) WAP to convert degree into Fahrenheit and vice versa."
   ]
  },
  {
   "cell_type": "code",
   "execution_count": 13,
   "metadata": {},
   "outputs": [
    {
     "name": "stdout",
     "output_type": "stream",
     "text": [
      "Enter 1 for F to c or Enter 2 for c to F2\n",
      "Enter celsius:32\n",
      "Fahrenheit =  89.6\n"
     ]
    }
   ],
   "source": [
    "a = int(input(\"Enter 1 for F to c or Enter 2 for c to F\"))\n",
    "if(a == 1):\n",
    "    F = float(input(\"Enter fahrenheit:\"))\n",
    "    c = (f-32)/(5/9)\n",
    "    print(\"Celsius = \",c)\n",
    "else:\n",
    "    c = float(input(\"Enter celsius:\"))\n",
    "    F = c*(9/5)+32\n",
    "    print(\"Fahrenheit = \",F)"
   ]
  },
  {
   "cell_type": "markdown",
   "metadata": {},
   "source": [
    "### 09) WAP to find the distance between two points in 2-D space."
   ]
  },
  {
   "cell_type": "code",
   "execution_count": 16,
   "metadata": {},
   "outputs": [
    {
     "name": "stdout",
     "output_type": "stream",
     "text": [
      "Enter x pos for 1:2\n",
      "Enter y pos for 1:3\n",
      "Enter x pos for 2:1\n",
      "Enter y pos for 2:3\n",
      "Distance =  1.0\n"
     ]
    }
   ],
   "source": [
    "import math\n",
    "x1 = int(input(\"Enter x pos for 1:\"))\n",
    "y1 = int(input(\"Enter y pos for 1:\"))\n",
    "x2 = int(input(\"Enter x pos for 2:\"))\n",
    "y2 = int(input(\"Enter y pos for 2:\"))\n",
    "\n",
    "dis = math.sqrt(math.pow(x2-x1,2) + math.pow(y2-y1,2))\n",
    "print(\"Distance = \",dis)"
   ]
  },
  {
   "cell_type": "markdown",
   "metadata": {},
   "source": [
    "### 10) WAP to print sum of n natural numbers."
   ]
  },
  {
   "cell_type": "code",
   "execution_count": 18,
   "metadata": {},
   "outputs": [
    {
     "ename": "SyntaxError",
     "evalue": "invalid syntax (2877783963.py, line 3)",
     "output_type": "error",
     "traceback": [
      "\u001b[1;36m  Cell \u001b[1;32mIn[18], line 3\u001b[1;36m\u001b[0m\n\u001b[1;33m    for(i==1;i<=n;i++) sum+=i\u001b[0m\n\u001b[1;37m            ^\u001b[0m\n\u001b[1;31mSyntaxError\u001b[0m\u001b[1;31m:\u001b[0m invalid syntax\n"
     ]
    }
   ],
   "source": [
    "n = int(input(\"Enter n:\"))\n",
    "sum = 0\n",
    "for(i==1;i<=n;i++) sum+=i\n",
    "print(\"Sum=\",sum)"
   ]
  },
  {
   "cell_type": "markdown",
   "metadata": {},
   "source": [
    "### 11) WAP to print sum of square of n natural numbers."
   ]
  },
  {
   "cell_type": "code",
   "execution_count": null,
   "metadata": {},
   "outputs": [],
   "source": []
  },
  {
   "cell_type": "markdown",
   "metadata": {},
   "source": [
    "### 12) WAP to concate the first and last name of the student."
   ]
  },
  {
   "cell_type": "code",
   "execution_count": null,
   "metadata": {},
   "outputs": [],
   "source": []
  },
  {
   "cell_type": "markdown",
   "metadata": {},
   "source": [
    "### 13) WAP to swap two numbers."
   ]
  },
  {
   "cell_type": "code",
   "execution_count": null,
   "metadata": {},
   "outputs": [],
   "source": []
  },
  {
   "cell_type": "markdown",
   "metadata": {},
   "source": [
    "### 14) WAP to get the distance from user into kilometer, and convert it into meter, feet, inches and centimeter."
   ]
  },
  {
   "cell_type": "code",
   "execution_count": null,
   "metadata": {},
   "outputs": [],
   "source": []
  },
  {
   "cell_type": "markdown",
   "metadata": {},
   "source": [
    "### 15) WAP to get day, month and year from the user and print the date in the given format: 23-11-2024."
   ]
  },
  {
   "cell_type": "code",
   "execution_count": null,
   "metadata": {},
   "outputs": [],
   "source": []
  }
 ],
 "metadata": {
  "kernelspec": {
   "display_name": "Python 3 (ipykernel)",
   "language": "python",
   "name": "python3"
  },
  "language_info": {
   "codemirror_mode": {
    "name": "ipython",
    "version": 3
   },
   "file_extension": ".py",
   "mimetype": "text/x-python",
   "name": "python",
   "nbconvert_exporter": "python",
   "pygments_lexer": "ipython3",
   "version": "3.10.9"
  },
  "vscode": {
   "interpreter": {
    "hash": "31f2aee4e71d21fbe5cf8b01ff0e069b9275f58929596ceb00d14d90e3e16cd6"
   }
  }
 },
 "nbformat": 4,
 "nbformat_minor": 4
}
